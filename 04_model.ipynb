{
 "cells": [
  {
   "cell_type": "markdown",
   "metadata": {},
   "source": [
    "# Arquivo contendo a modelagem dos dados"
   ]
  },
  {
   "cell_type": "code",
   "execution_count": 1,
   "metadata": {},
   "outputs": [],
   "source": [
    "from model import MovieModel, InputPredict\n",
    "import pandas as pd"
   ]
  },
  {
   "cell_type": "markdown",
   "metadata": {},
   "source": [
    "## FIT"
   ]
  },
  {
   "cell_type": "code",
   "execution_count": 2,
   "metadata": {},
   "outputs": [],
   "source": [
    "data = pd.read_csv(\"datasets/movies_dataset_model.csv\", index_col=0)\n",
    "data_metadata = pd.read_csv(\"datasets/movies_dataset_metadata.csv\", index_col=0)"
   ]
  },
  {
   "cell_type": "code",
   "execution_count": 3,
   "metadata": {},
   "outputs": [],
   "source": [
    "model = MovieModel(data, data_metadata)\n",
    "\n",
    "model.fit()\n",
    "\n",
    "model.save(\"movie_model_fitted.mr\")"
   ]
  },
  {
   "cell_type": "markdown",
   "metadata": {},
   "source": [
    "## Predict"
   ]
  },
  {
   "cell_type": "code",
   "execution_count": 4,
   "metadata": {},
   "outputs": [],
   "source": [
    "model = MovieModel.load(\"movie_model_fitted.mr\")"
   ]
  },
  {
   "cell_type": "code",
   "execution_count": 7,
   "metadata": {},
   "outputs": [
    {
     "name": "stdout",
     "output_type": "stream",
     "text": [
      "Treasure Island\n"
     ]
    }
   ],
   "source": [
    "user_input = InputPredict()\n",
    "user_input.genre1 = \"adventure\"\n",
    "user_input.genre2 = \"family\"\n",
    "user_input.genre3 = None\n",
    "user_input.release_year = 2001\n",
    "user_input.runtime = 152\n",
    "# user_input.vote_average = 7.5\n",
    "# user_input.popularity = 38\n",
    "user_input.language = \"english\"\n",
    "\n",
    "recommended = model.predict(user_input)\n",
    "\n",
    "print(recommended.loc[recommended.index[0],\"title\"])"
   ]
  },
  {
   "cell_type": "code",
   "execution_count": 9,
   "metadata": {},
   "outputs": [
    {
     "data": {
      "text/plain": [
       "count    31207.000000\n",
       "mean      1991.133912\n",
       "std         23.785919\n",
       "min       1906.000000\n",
       "25%       1976.000000\n",
       "50%       2000.000000\n",
       "75%       2010.000000\n",
       "max       2017.000000\n",
       "Name: release_year, dtype: float64"
      ]
     },
     "execution_count": 9,
     "metadata": {},
     "output_type": "execute_result"
    }
   ],
   "source": [
    "data['release_year'].describe()"
   ]
  }
 ],
 "metadata": {
  "kernelspec": {
   "display_name": "env",
   "language": "python",
   "name": "python3"
  },
  "language_info": {
   "codemirror_mode": {
    "name": "ipython",
    "version": 3
   },
   "file_extension": ".py",
   "mimetype": "text/x-python",
   "name": "python",
   "nbconvert_exporter": "python",
   "pygments_lexer": "ipython3",
   "version": "3.10.12"
  },
  "orig_nbformat": 4,
  "vscode": {
   "interpreter": {
    "hash": "af63cac73da6a9f00ab2d064518bc18ea6561116da665d386747fd93ee350878"
   }
  }
 },
 "nbformat": 4,
 "nbformat_minor": 2
}
